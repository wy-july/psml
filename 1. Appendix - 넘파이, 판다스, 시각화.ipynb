{
 "cells": [
  {
   "cell_type": "markdown",
   "id": "b3f34e97-585e-4053-a619-c95a4b22e40e",
   "metadata": {},
   "source": [
    "# 1.1 넘파이\n",
    "- 넘파이 : 분석자료를 생성, 편집, 가공, 연산을 위한 라이브러리\n",
    "- 넘파이는 주로 함수의 기능을 하기 때문에 \"np.함수()\"의 형태로 사용\n",
    "- cf) 판다스는 주로 클래스의 기능을 하기 때문에 \"객체.함수()\"의 형태로 주료 사용"
   ]
  },
  {
   "cell_type": "code",
   "execution_count": 12,
   "id": "14d541e2-2074-4f0d-bd83-7c76b3f3b6a8",
   "metadata": {},
   "outputs": [],
   "source": [
    "import numpy as np"
   ]
  },
  {
   "cell_type": "code",
   "execution_count": 2,
   "id": "da9d859c-fe57-4b36-b15f-15715be90aaf",
   "metadata": {},
   "outputs": [
    {
     "data": {
      "text/plain": [
       "array([1, 5, 6, 7])"
      ]
     },
     "execution_count": 2,
     "metadata": {},
     "output_type": "execute_result"
    }
   ],
   "source": [
    "np.array([1,5,6,7])"
   ]
  },
  {
   "cell_type": "code",
   "execution_count": 12,
   "id": "3e663bed-2a61-4997-8682-5eee7276f75a",
   "metadata": {},
   "outputs": [
    {
     "data": {
      "text/plain": [
       "array([1.25, 5.  , 6.  , 7.  ])"
      ]
     },
     "execution_count": 12,
     "metadata": {},
     "output_type": "execute_result"
    }
   ],
   "source": [
    "np.array([1.25,5,6,7])\n",
    "### 넘파이는 하나의 통일된 자료타입을 사용"
   ]
  },
  {
   "cell_type": "code",
   "execution_count": 13,
   "id": "db238315-d42a-4761-bd6c-3263065396ed",
   "metadata": {},
   "outputs": [
    {
     "data": {
      "text/plain": [
       "array([0, 0, 0, 0, 0])"
      ]
     },
     "execution_count": 13,
     "metadata": {},
     "output_type": "execute_result"
    }
   ],
   "source": [
    "### 0으로 구성된 1차원 자료\n",
    "\n",
    "np.zeros(5, dtype=int)"
   ]
  },
  {
   "cell_type": "code",
   "execution_count": 14,
   "id": "beb0892e-4aff-43a3-9ede-d7da3b87d1ac",
   "metadata": {},
   "outputs": [
    {
     "data": {
      "text/plain": [
       "array([[1., 1., 1.],\n",
       "       [1., 1., 1.]])"
      ]
     },
     "execution_count": 14,
     "metadata": {},
     "output_type": "execute_result"
    }
   ],
   "source": [
    "### 1로 구성된 2 by 3 (2차원) 자료\n",
    "\n",
    "np.ones([2,3], dtype=float)"
   ]
  },
  {
   "cell_type": "code",
   "execution_count": 8,
   "id": "c94d536d-478b-4e08-bde9-a6715c7b8bb7",
   "metadata": {},
   "outputs": [
    {
     "data": {
      "text/plain": [
       "array([0, 2, 4, 6, 8])"
      ]
     },
     "execution_count": 8,
     "metadata": {},
     "output_type": "execute_result"
    }
   ],
   "source": [
    "### 등차수열\n",
    "\n",
    "np.arange(0, 10, 2)"
   ]
  },
  {
   "cell_type": "code",
   "execution_count": 9,
   "id": "8910c67b-d9ca-42c2-a007-b8f709163141",
   "metadata": {},
   "outputs": [
    {
     "data": {
      "text/plain": [
       "array([0.  , 0.25, 0.5 , 0.75, 1.  ])"
      ]
     },
     "execution_count": 9,
     "metadata": {},
     "output_type": "execute_result"
    }
   ],
   "source": [
    "### graph의 축의 값을 정의 할 때 유용하게 쓰임\n",
    "\n",
    "np.linspace(0, 1, 5)"
   ]
  },
  {
   "cell_type": "code",
   "execution_count": 10,
   "id": "b8eb999d-319c-4cbe-8cac-73625f56b75a",
   "metadata": {},
   "outputs": [],
   "source": [
    "### 특정 분포를 따르는 확률변수의 값을 생성할 때\n",
    "\n",
    "np.random.seed(12)"
   ]
  },
  {
   "cell_type": "code",
   "execution_count": 11,
   "id": "182db614-d77d-4b36-9a67-d28e3efa1581",
   "metadata": {},
   "outputs": [
    {
     "data": {
      "text/plain": [
       "array([[0.15416284, 0.7400497 , 0.26331502],\n",
       "       [0.53373939, 0.01457496, 0.91874701],\n",
       "       [0.90071485, 0.03342143, 0.95694934]])"
      ]
     },
     "execution_count": 11,
     "metadata": {},
     "output_type": "execute_result"
    }
   ],
   "source": [
    "### Uniform(0,1)으로부터 3 by 3 행렬을 생성할 때\n",
    "\n",
    "np.random.random((3,3))"
   ]
  },
  {
   "cell_type": "code",
   "execution_count": 58,
   "id": "35e211cd-d705-4e64-9321-1cd93f68ec07",
   "metadata": {},
   "outputs": [
    {
     "data": {
      "text/plain": [
       "array([[-0.59703923,  0.56050858,  1.05531088],\n",
       "       [-0.58374243, -0.60474191,  1.49292058],\n",
       "       [ 0.61501214,  0.48269056, -0.69363977]])"
      ]
     },
     "execution_count": 58,
     "metadata": {},
     "output_type": "execute_result"
    }
   ],
   "source": [
    "### 평균이 0이고 분산이 1인 정규분포로부터 3 by 3 행렬을 생성할 때\n",
    "\n",
    "np.random.normal(0, 1, (3,3))"
   ]
  },
  {
   "cell_type": "code",
   "execution_count": 33,
   "id": "1572a2ae-217b-4ba5-92fa-f1b761f53bef",
   "metadata": {},
   "outputs": [
    {
     "data": {
      "text/plain": [
       "array([[9, 9, 7],\n",
       "       [6, 9, 1],\n",
       "       [0, 1, 8]])"
      ]
     },
     "execution_count": 33,
     "metadata": {},
     "output_type": "execute_result"
    }
   ],
   "source": [
    "### 0 to 9 범위의 int로부터 3 by 3 행렬을 생성할 때\n",
    "np.random.randint(0, 10, (3,3))"
   ]
  },
  {
   "cell_type": "code",
   "execution_count": 21,
   "id": "f2c7e31e-c339-4bd3-9bce-33082e4d8c79",
   "metadata": {},
   "outputs": [
    {
     "data": {
      "text/plain": [
       "\u001b[1;31mType:\u001b[0m        module\n",
       "\u001b[1;31mString form:\u001b[0m <module 'numpy.random' from 'C:\\\\Users\\\\yeswo\\\\.conda\\\\envs\\\\ttn\\\\lib\\\\site-packages\\\\numpy\\\\random\\\\__init__.py'>\n",
       "\u001b[1;31mFile:\u001b[0m        c:\\users\\yeswo\\.conda\\envs\\ttn\\lib\\site-packages\\numpy\\random\\__init__.py\n",
       "\u001b[1;31mDocstring:\u001b[0m  \n",
       "========================\n",
       "Random Number Generation\n",
       "========================\n",
       "\n",
       "Use ``default_rng()`` to create a `Generator` and call its methods.\n",
       "\n",
       "=============== =========================================================\n",
       "Generator\n",
       "--------------- ---------------------------------------------------------\n",
       "Generator       Class implementing all of the random number distributions\n",
       "default_rng     Default constructor for ``Generator``\n",
       "=============== =========================================================\n",
       "\n",
       "============================================= ===\n",
       "BitGenerator Streams that work with Generator\n",
       "--------------------------------------------- ---\n",
       "MT19937\n",
       "PCG64\n",
       "PCG64DXSM\n",
       "Philox\n",
       "SFC64\n",
       "============================================= ===\n",
       "\n",
       "============================================= ===\n",
       "Getting entropy to initialize a BitGenerator\n",
       "--------------------------------------------- ---\n",
       "SeedSequence\n",
       "============================================= ===\n",
       "\n",
       "\n",
       "Legacy\n",
       "------\n",
       "\n",
       "For backwards compatibility with previous versions of numpy before 1.17, the\n",
       "various aliases to the global `RandomState` methods are left alone and do not\n",
       "use the new `Generator` API.\n",
       "\n",
       "==================== =========================================================\n",
       "Utility functions\n",
       "-------------------- ---------------------------------------------------------\n",
       "random               Uniformly distributed floats over ``[0, 1)``\n",
       "bytes                Uniformly distributed random bytes.\n",
       "permutation          Randomly permute a sequence / generate a random sequence.\n",
       "shuffle              Randomly permute a sequence in place.\n",
       "choice               Random sample from 1-D array.\n",
       "==================== =========================================================\n",
       "\n",
       "==================== =========================================================\n",
       "Compatibility\n",
       "functions - removed\n",
       "in the new API\n",
       "-------------------- ---------------------------------------------------------\n",
       "rand                 Uniformly distributed values.\n",
       "randn                Normally distributed values.\n",
       "ranf                 Uniformly distributed floating point numbers.\n",
       "random_integers      Uniformly distributed integers in a given range.\n",
       "                     (deprecated, use ``integers(..., closed=True)`` instead)\n",
       "random_sample        Alias for `random_sample`\n",
       "randint              Uniformly distributed integers in a given range\n",
       "seed                 Seed the legacy random number generator.\n",
       "==================== =========================================================\n",
       "\n",
       "==================== =========================================================\n",
       "Univariate\n",
       "distributions\n",
       "-------------------- ---------------------------------------------------------\n",
       "beta                 Beta distribution over ``[0, 1]``.\n",
       "binomial             Binomial distribution.\n",
       "chisquare            :math:`\\chi^2` distribution.\n",
       "exponential          Exponential distribution.\n",
       "f                    F (Fisher-Snedecor) distribution.\n",
       "gamma                Gamma distribution.\n",
       "geometric            Geometric distribution.\n",
       "gumbel               Gumbel distribution.\n",
       "hypergeometric       Hypergeometric distribution.\n",
       "laplace              Laplace distribution.\n",
       "logistic             Logistic distribution.\n",
       "lognormal            Log-normal distribution.\n",
       "logseries            Logarithmic series distribution.\n",
       "negative_binomial    Negative binomial distribution.\n",
       "noncentral_chisquare Non-central chi-square distribution.\n",
       "noncentral_f         Non-central F distribution.\n",
       "normal               Normal / Gaussian distribution.\n",
       "pareto               Pareto distribution.\n",
       "poisson              Poisson distribution.\n",
       "power                Power distribution.\n",
       "rayleigh             Rayleigh distribution.\n",
       "triangular           Triangular distribution.\n",
       "uniform              Uniform distribution.\n",
       "vonmises             Von Mises circular distribution.\n",
       "wald                 Wald (inverse Gaussian) distribution.\n",
       "weibull              Weibull distribution.\n",
       "zipf                 Zipf's distribution over ranked data.\n",
       "==================== =========================================================\n",
       "\n",
       "==================== ==========================================================\n",
       "Multivariate\n",
       "distributions\n",
       "-------------------- ----------------------------------------------------------\n",
       "dirichlet            Multivariate generalization of Beta distribution.\n",
       "multinomial          Multivariate generalization of the binomial distribution.\n",
       "multivariate_normal  Multivariate generalization of the normal distribution.\n",
       "==================== ==========================================================\n",
       "\n",
       "==================== =========================================================\n",
       "Standard\n",
       "distributions\n",
       "-------------------- ---------------------------------------------------------\n",
       "standard_cauchy      Standard Cauchy-Lorentz distribution.\n",
       "standard_exponential Standard exponential distribution.\n",
       "standard_gamma       Standard Gamma distribution.\n",
       "standard_normal      Standard normal distribution.\n",
       "standard_t           Standard Student's t-distribution.\n",
       "==================== =========================================================\n",
       "\n",
       "==================== =========================================================\n",
       "Internal functions\n",
       "-------------------- ---------------------------------------------------------\n",
       "get_state            Get tuple representing internal state of generator.\n",
       "set_state            Set state of generator.\n",
       "==================== =========================================================\n"
      ]
     },
     "metadata": {},
     "output_type": "display_data"
    }
   ],
   "source": [
    "np.random?"
   ]
  },
  {
   "cell_type": "code",
   "execution_count": 34,
   "id": "b40bc0be-461c-4493-a0dc-1c483949b0aa",
   "metadata": {},
   "outputs": [
    {
     "name": "stdout",
     "output_type": "stream",
     "text": [
      "RandomState(MT19937)\n"
     ]
    }
   ],
   "source": [
    "### 객체화\n",
    "\n",
    "rg = np.random.RandomState(40)\n",
    "print(rg)"
   ]
  },
  {
   "cell_type": "code",
   "execution_count": 10,
   "id": "abac5e95-eca2-4828-9ecc-ecd20c952ad5",
   "metadata": {},
   "outputs": [
    {
     "name": "stdout",
     "output_type": "stream",
     "text": [
      "[[[5 8 9 5]\n",
      "  [0 0 1 7]\n",
      "  [6 9 2 4]]\n",
      "\n",
      " [[5 2 4 2]\n",
      "  [4 7 7 9]\n",
      "  [1 7 0 6]]]\n",
      "3\n",
      "(2, 3, 4)\n",
      "24\n"
     ]
    }
   ],
   "source": [
    "np.random.seed(1)\n",
    "x = np.random.randint(10, size=(2,3,4))\n",
    "\n",
    "print(x)\n",
    "print(x.ndim)\n",
    "print(x.shape)\n",
    "print(x.size)"
   ]
  },
  {
   "cell_type": "code",
   "execution_count": 39,
   "id": "1c68b5f3-629d-4f7e-a6ef-2df3fa9bece1",
   "metadata": {},
   "outputs": [
    {
     "name": "stdout",
     "output_type": "stream",
     "text": [
      "[[1 2 3]\n",
      " [4 5 6]\n",
      " [7 8 9]]\n",
      "\n",
      "[[1 2]\n",
      " [4 5]]\n",
      "\n",
      "[[99  2  3]\n",
      " [ 4  5  6]\n",
      " [ 7  8  9]]\n"
     ]
    }
   ],
   "source": [
    "### array slicing(편집)\n",
    "\n",
    "x1 = np.arange(9).reshape((3,3))\n",
    "x = x1 + 1\n",
    "print(x)\n",
    "print()\n",
    "print(x[:2, :2])\n",
    "print()\n",
    "x[0,0] = 99\n",
    "print(x)"
   ]
  },
  {
   "cell_type": "markdown",
   "id": "695c3398-5a65-4e1f-a955-02df0019495c",
   "metadata": {},
   "source": [
    "## 1.1.1 차원변경, 분할, 병합"
   ]
  },
  {
   "cell_type": "code",
   "execution_count": 41,
   "id": "c1ed03fc-d71b-4272-9c38-7e73a67ae381",
   "metadata": {},
   "outputs": [
    {
     "name": "stdout",
     "output_type": "stream",
     "text": [
      "[1 2 3]\n",
      "[[1 2 3]]\n",
      "[[1 2 3]]\n",
      "[[1]\n",
      " [2]\n",
      " [3]]\n"
     ]
    }
   ],
   "source": [
    "### 차원변경\n",
    "\n",
    "x1 = np.arange(3)\n",
    "x = x1 + 1\n",
    "print(x)\n",
    "print(x.reshape(1,3)) # 2차원 행벡터로 변경\n",
    "print(x[np.newaxis, :]) # 2차원 행벡터로 변경하는 또다른 표현\n",
    "print(x[:, np.newaxis]) # 2차원 열벡터로 변경"
   ]
  },
  {
   "cell_type": "code",
   "execution_count": 46,
   "id": "e0b0cc3b-5fe4-404d-bfb6-95156753ed62",
   "metadata": {},
   "outputs": [
    {
     "name": "stdout",
     "output_type": "stream",
     "text": [
      "100\n",
      "3\n",
      "4\n"
     ]
    }
   ],
   "source": [
    "x = np.random.randint(10, size=(100,3,4))\n",
    "print(x.shape[0])\n",
    "print(x.shape[1])\n",
    "print(x.shape[2])"
   ]
  },
  {
   "cell_type": "code",
   "execution_count": 68,
   "id": "5a5f6cdd-8a46-47ef-8e8e-d90a5df8e4b8",
   "metadata": {},
   "outputs": [
    {
     "name": "stdout",
     "output_type": "stream",
     "text": [
      "[[6 9 4 ... 1 0 6]\n",
      " [0 7 9 ... 0 2 7]\n",
      " [6 0 1 ... 8 8 8]\n",
      " ...\n",
      " [6 1 1 ... 8 7 5]\n",
      " [0 7 8 ... 8 7 0]\n",
      " [8 1 3 ... 9 2 7]] (100, 12)\n",
      "[[6 9 4 ... 1 0 6]\n",
      " [0 7 9 ... 0 2 7]\n",
      " [6 0 1 ... 8 8 8]\n",
      " ...\n",
      " [6 1 1 ... 8 7 5]\n",
      " [0 7 8 ... 8 7 0]\n",
      " [8 1 3 ... 9 2 7]] (100, 12)\n"
     ]
    }
   ],
   "source": [
    "x1 = x.reshape((100, 12))\n",
    "x2 = x.reshape((-1,12))\n",
    "\n",
    "print(x1, x1.shape)\n",
    "print(x2, x2.shape)\n",
    "\n",
    "### x1과 x2는 동일"
   ]
  },
  {
   "cell_type": "code",
   "execution_count": 74,
   "id": "f96810e8-8081-4627-b8ae-d8404138a92a",
   "metadata": {},
   "outputs": [
    {
     "name": "stdout",
     "output_type": "stream",
     "text": [
      "[1 2] [3 4 5 6] [7 8]\n"
     ]
    }
   ],
   "source": [
    "### 분할\n",
    "\n",
    "x = [1,2,3,4,5,6,7,8]\n",
    "x1, x2, x3 = np.split(x, [2,6])\n",
    "print(x1, x2, x3)\n",
    "### 인덱스를 [0,2) [2,6) [6, 마지막]으로 분류한 결과를 표시"
   ]
  },
  {
   "cell_type": "code",
   "execution_count": 86,
   "id": "10bc6a43-e743-4157-abe4-f24ea2cdcde4",
   "metadata": {},
   "outputs": [
    {
     "name": "stdout",
     "output_type": "stream",
     "text": [
      "[[0.89590156 0.26609952 0.43118378 0.32735898]\n",
      " [0.66622936 0.99921115 0.90337201 0.22882025]]\n",
      "[[0.93102613 0.95966856 0.57699123 0.77115075]\n",
      " [0.95627128 0.21322431 0.30629184 0.7906168 ]]\n",
      "[[0.89590156 0.26609952]\n",
      " [0.66622936 0.99921115]\n",
      " [0.93102613 0.95966856]\n",
      " [0.95627128 0.21322431]]\n",
      "[[0.43118378 0.32735898]\n",
      " [0.90337201 0.22882025]\n",
      " [0.57699123 0.77115075]\n",
      " [0.30629184 0.7906168 ]]\n"
     ]
    }
   ],
   "source": [
    "### 행 / 열 분할\n",
    "\n",
    "x = np.random.random((4,4))\n",
    "\n",
    "x1, x2 = np.vsplit(x,[2])\n",
    "\n",
    "print(x1)\n",
    "print(x2)\n",
    "\n",
    "y1, y2 = np.hsplit(x, [2])\n",
    "\n",
    "print(y1)\n",
    "print(y2)"
   ]
  },
  {
   "cell_type": "code",
   "execution_count": 95,
   "id": "d74b26fc-9095-4a12-b0c4-bc43910934be",
   "metadata": {},
   "outputs": [
    {
     "name": "stdout",
     "output_type": "stream",
     "text": [
      "[1 2 3 4 5 6]\n",
      "[[1 2 3]\n",
      " [4 5 6]\n",
      " [2 4 6]\n",
      " [8 7 6]]\n",
      "[[1 2 3 2 4 6]\n",
      " [4 5 6 8 7 6]]\n",
      "[[11 22 33]\n",
      " [ 1  2  3]\n",
      " [ 4  5  6]]\n",
      "[[100   1   2   3]\n",
      " [200   4   5   6]]\n"
     ]
    }
   ],
   "source": [
    "### 병합\n",
    "\n",
    "x = np.array([1,2])\n",
    "y = np.array([3,4])\n",
    "z = np.array([5,6])\n",
    "xx = ([[1,2,3], [4,5,6]])\n",
    "yy = ([[2,4,6], [8,7,6]])\n",
    "zz = ([11,22,33])\n",
    "ww = ([100], [200])\n",
    "\n",
    "print(np.concatenate([x,y,z]))\n",
    "print(np.concatenate([xx,yy]))\n",
    "print(np.concatenate([xx,yy], axis=1))\n",
    "print(np.vstack([zz,xx]))\n",
    "print(np.hstack([ww,xx]))"
   ]
  },
  {
   "cell_type": "markdown",
   "id": "ac3893b1-7e53-48e6-994f-d041d20cead3",
   "metadata": {},
   "source": [
    "## 1.1.2 연산"
   ]
  },
  {
   "cell_type": "code",
   "execution_count": 99,
   "id": "476e0727-7675-440c-b95e-09b992dc4b62",
   "metadata": {},
   "outputs": [
    {
     "name": "stdout",
     "output_type": "stream",
     "text": [
      "[4 5 6 7]\n",
      "[-2 -1  0  1]\n",
      "[ 3  6  9 12]\n",
      "[0.33333333 0.66666667 1.         1.33333333]\n",
      "[ 1  8 27 64]\n",
      "[-2.25 -4.   -6.25 -9.  ]\n"
     ]
    }
   ],
   "source": [
    "### 연산의 기본적인 개념은 브로드캐스팅(broadcasting)\n",
    "\n",
    "x= np.array([1,2,3,4])\n",
    "print(x+3)\n",
    "print(x-3)\n",
    "print(x*3)\n",
    "print(x/3)\n",
    "print(x**3)\n",
    "print(-(0.5*x+1)**2)"
   ]
  },
  {
   "cell_type": "code",
   "execution_count": 102,
   "id": "2b812b9c-b251-4976-9894-20f8051c6963",
   "metadata": {},
   "outputs": [
    {
     "name": "stdout",
     "output_type": "stream",
     "text": [
      "[[1. 1. 1.]\n",
      " [1. 1. 1.]\n",
      " [1. 1. 1.]]\n",
      "[[2. 2. 2.]\n",
      " [2. 2. 2.]\n",
      " [2. 2. 2.]]\n",
      "[[2. 3. 4.]\n",
      " [2. 3. 4.]\n",
      " [2. 3. 4.]]\n"
     ]
    }
   ],
   "source": [
    "### 행렬의 연산\n",
    "\n",
    "M = np.ones((3,3))\n",
    "print(M)\n",
    "M1  = M + 1\n",
    "print(M1)\n",
    "\n",
    "a = np.array([1,2,3])\n",
    "M2 = M + a\n",
    "print(M2)"
   ]
  },
  {
   "cell_type": "code",
   "execution_count": 104,
   "id": "b05548c5-65f3-49d5-94e7-414bbf73a22d",
   "metadata": {},
   "outputs": [
    {
     "name": "stdout",
     "output_type": "stream",
     "text": [
      "[0 1 2]\n",
      "[[0]\n",
      " [1]\n",
      " [2]]\n",
      "[[0 1 2]\n",
      " [1 2 3]\n",
      " [2 3 4]]\n"
     ]
    }
   ],
   "source": [
    "### 행렬의 연산 2\n",
    "\n",
    "a = np.arange(3)\n",
    "b = np.arange(3)[:, np.newaxis]\n",
    "print(a)\n",
    "print(b)\n",
    "\n",
    "print(a+b)"
   ]
  },
  {
   "cell_type": "code",
   "execution_count": 124,
   "id": "f5b70a16-951d-4070-b99c-7b0e09229742",
   "metadata": {},
   "outputs": [
    {
     "name": "stdout",
     "output_type": "stream",
     "text": [
      "[[9 2 6 0]\n",
      " [4 9 5 8]\n",
      " [8 6 4 8]]\n",
      "69\n",
      "[0 4 4]\n",
      "[9 9 6 8]\n",
      "[7.         5.66666667 5.         5.33333333]\n",
      "[3.49106001 2.06155281 1.6583124 ]\n",
      "[[ 0.9258201  -1.27872403  1.22474487 -1.41421356]\n",
      " [-1.38873015  1.16247639  0.          0.70710678]\n",
      " [ 0.46291005  0.11624764 -1.22474487  0.70710678]]\n",
      "[ 0.00000000e+00 -4.30211422e-16  0.00000000e+00  2.22044605e-16]\n"
     ]
    }
   ],
   "source": [
    "### 기초통계량의 산출\n",
    "x = np.random.randint(10, size=(3,4))\n",
    "print(x)\n",
    "\n",
    "print(np.sum(x))\n",
    "print(np.min(x, axis=1)) # 각 행의 최솟값들을 표현\n",
    "print(np.max(x, axis=0)) # 각 열의 최댓값들을 표현\n",
    "print(np.mean(x, axis=0))\n",
    "print(np.std(x, axis=1)) # 각 행의 표준편차들을 표현\n",
    "\n",
    "x_std = (x - np.mean(x, axis=0)) / np.std(x, axis=0) # 각 열별로 표준화한 행렬 생성\n",
    "print(x_std)\n",
    "print(np.sum(x_std, axis=0))"
   ]
  },
  {
   "cell_type": "markdown",
   "id": "33cff00c-7f79-441f-942a-d3e0ba184fd6",
   "metadata": {},
   "source": [
    "## 1.1.3 논리 인덱싱과 순서 정렬"
   ]
  },
  {
   "cell_type": "code",
   "execution_count": 11,
   "id": "afcbccf1-9869-4a21-a067-11dbdda3091f",
   "metadata": {},
   "outputs": [
    {
     "data": {
      "text/plain": [
       "array([[False, False, False, False],\n",
       "       [ True,  True,  True,  True]])"
      ]
     },
     "execution_count": 11,
     "metadata": {},
     "output_type": "execute_result"
    }
   ],
   "source": [
    "x = np.array([[1,2,3,4],[5,6,7,8]])\n",
    "x>=5"
   ]
  },
  {
   "cell_type": "code",
   "execution_count": 13,
   "id": "68a13791-41b5-4831-8535-28b96309af05",
   "metadata": {},
   "outputs": [
    {
     "data": {
      "text/plain": [
       "4"
      ]
     },
     "execution_count": 13,
     "metadata": {},
     "output_type": "execute_result"
    }
   ],
   "source": [
    "np.sum(x>=5)"
   ]
  },
  {
   "cell_type": "code",
   "execution_count": 14,
   "id": "3b63cb91-8be5-4984-8c49-48568c0aafa5",
   "metadata": {},
   "outputs": [
    {
     "data": {
      "text/plain": [
       "array([0, 4])"
      ]
     },
     "execution_count": 14,
     "metadata": {},
     "output_type": "execute_result"
    }
   ],
   "source": [
    "np.sum(x>=5, axis=1)"
   ]
  },
  {
   "cell_type": "code",
   "execution_count": 15,
   "id": "58b6f7ec-467e-41a5-943c-44f1ff348dd3",
   "metadata": {},
   "outputs": [
    {
     "data": {
      "text/plain": [
       "False"
      ]
     },
     "execution_count": 15,
     "metadata": {},
     "output_type": "execute_result"
    }
   ],
   "source": [
    "np.any(x>=100)"
   ]
  },
  {
   "cell_type": "code",
   "execution_count": 16,
   "id": "0f7a0477-3d61-41fd-9120-9e58285d9336",
   "metadata": {},
   "outputs": [
    {
     "data": {
      "text/plain": [
       "array([ True,  True, False, False])"
      ]
     },
     "execution_count": 16,
     "metadata": {},
     "output_type": "execute_result"
    }
   ],
   "source": [
    "np.all(x<7, axis=0)"
   ]
  },
  {
   "cell_type": "code",
   "execution_count": 17,
   "id": "818d7f31-2600-49c3-b8d9-56f7201969ca",
   "metadata": {},
   "outputs": [
    {
     "data": {
      "text/plain": [
       "False"
      ]
     },
     "execution_count": 17,
     "metadata": {},
     "output_type": "execute_result"
    }
   ],
   "source": [
    "np.all(x==100)"
   ]
  },
  {
   "cell_type": "code",
   "execution_count": 18,
   "id": "8063b279-7354-4336-ae5f-8cbe50b36ae8",
   "metadata": {},
   "outputs": [
    {
     "data": {
      "text/plain": [
       "array([[ 1,  2,  3,  4],\n",
       "       [ 9, 10, 11, 12]])"
      ]
     },
     "execution_count": 18,
     "metadata": {},
     "output_type": "execute_result"
    }
   ],
   "source": [
    "x = np.array([[1,2,3,4],[5,6,7,8],[9,10,11,12],[13,14,15,16]])\n",
    "y = np.array([1,0,1,0])\n",
    "x[y==1, :]"
   ]
  },
  {
   "cell_type": "code",
   "execution_count": 19,
   "id": "3ab3bcd3-0f30-409c-93c7-bf0ed34e7a67",
   "metadata": {},
   "outputs": [
    {
     "data": {
      "text/plain": [
       "array([[ 2,  4],\n",
       "       [ 6,  8],\n",
       "       [10, 12],\n",
       "       [14, 16]])"
      ]
     },
     "execution_count": 19,
     "metadata": {},
     "output_type": "execute_result"
    }
   ],
   "source": [
    "x[:,y==0]"
   ]
  },
  {
   "cell_type": "code",
   "execution_count": 21,
   "id": "7c87656a-8a41-4ba9-90c1-7b654264e94e",
   "metadata": {},
   "outputs": [],
   "source": [
    "x = np.array([11,22,33,44,55,66,77,88,99])\n",
    "ind1 = np.array([2,3,8])\n",
    "ind2 = np.array([[2,1,3],[5,2,7]])"
   ]
  },
  {
   "cell_type": "code",
   "execution_count": 24,
   "id": "a083f58c-85dc-462e-9b3d-4bacabe29712",
   "metadata": {},
   "outputs": [
    {
     "name": "stdout",
     "output_type": "stream",
     "text": [
      "[33 44 99]\n",
      "[[33 22 44]\n",
      " [66 33 88]]\n"
     ]
    }
   ],
   "source": [
    "x1 = x[ind1]\n",
    "x2 = x[ind2]\n",
    "print(x1)\n",
    "print(x2)"
   ]
  },
  {
   "cell_type": "code",
   "execution_count": 26,
   "id": "c836b815-5214-4293-af07-25eea54c4e6e",
   "metadata": {},
   "outputs": [
    {
     "data": {
      "text/plain": [
       "array([[ 0,  1,  2,  3],\n",
       "       [ 4,  5,  6,  7],\n",
       "       [ 8,  9, 10, 11]])"
      ]
     },
     "execution_count": 26,
     "metadata": {},
     "output_type": "execute_result"
    }
   ],
   "source": [
    "x = np.arange(12).reshape((3,4))\n",
    "x"
   ]
  },
  {
   "cell_type": "code",
   "execution_count": 27,
   "id": "97608b57-cb4d-412c-95b5-0aa9d4d2df37",
   "metadata": {},
   "outputs": [
    {
     "data": {
      "text/plain": [
       "array([6, 8, 9])"
      ]
     },
     "execution_count": 27,
     "metadata": {},
     "output_type": "execute_result"
    }
   ],
   "source": [
    "y1 = np.array([1,2,2])\n",
    "y2 = np.array([2,0,1])\n",
    "x[y1, y2]"
   ]
  },
  {
   "cell_type": "code",
   "execution_count": 28,
   "id": "b5a86bb6-07d2-4c3e-8e94-8fefc6c22f97",
   "metadata": {},
   "outputs": [
    {
     "data": {
      "text/plain": [
       "array([[ 6,  4,  5],\n",
       "       [10,  8,  9],\n",
       "       [10,  8,  9]])"
      ]
     },
     "execution_count": 28,
     "metadata": {},
     "output_type": "execute_result"
    }
   ],
   "source": [
    "x[y1[:, np.newaxis], y2]"
   ]
  },
  {
   "cell_type": "code",
   "execution_count": 30,
   "id": "806a0e16-3b74-434e-88ea-f635dd59d630",
   "metadata": {},
   "outputs": [
    {
     "data": {
      "text/plain": [
       "array([1, 2, 3, 4, 5])"
      ]
     },
     "execution_count": 30,
     "metadata": {},
     "output_type": "execute_result"
    }
   ],
   "source": [
    "### 순서 정렬\n",
    "\n",
    "x =  np.array([2,4,3,1,5])\n",
    "np.sort(x)"
   ]
  },
  {
   "cell_type": "code",
   "execution_count": 32,
   "id": "0d981652-7573-44b4-ae7e-230f066ada7d",
   "metadata": {},
   "outputs": [
    {
     "name": "stdout",
     "output_type": "stream",
     "text": [
      "[3 0 2 1 4]\n"
     ]
    }
   ],
   "source": [
    "### 순서 정렬하여 위치 인덱스 순서대로 출력\n",
    "\n",
    "ind = np.argsort(x)\n",
    "print(ind)"
   ]
  },
  {
   "cell_type": "markdown",
   "id": "66497cf3-57db-4a61-ada8-cb96ad913a2c",
   "metadata": {},
   "source": [
    "# 1.2 판다스\n",
    "- 넘파이는 동일한 자료타입 데이터만 허용되지만, 판다스는 다양한 자료 타입을 동시에 이용할 수 있다.\n",
    "- 1차원 자료에 이용하는 클래스 Series와 2차원 자료에 사용하는 클래스 DataFrame이 있다."
   ]
  },
  {
   "cell_type": "code",
   "execution_count": 49,
   "id": "efebef3f-871b-4184-9918-0252465a8bc2",
   "metadata": {},
   "outputs": [
    {
     "name": "stdout",
     "output_type": "stream",
     "text": [
      "a    0.1\n",
      "b    0.2\n",
      "c    0.3\n",
      "d    0.4\n",
      "dtype: float64\n"
     ]
    }
   ],
   "source": [
    "import pandas as pd\n",
    "X1 = pd.Series([0.1,0.2,0.3,0.4], index=['a','b','c','d'])\n",
    "print(X1)"
   ]
  },
  {
   "cell_type": "code",
   "execution_count": 51,
   "id": "7eaed5e0-800a-46d3-81db-792597f59d8c",
   "metadata": {},
   "outputs": [
    {
     "data": {
      "text/plain": [
       "array([0.1, 0.2, 0.3, 0.4])"
      ]
     },
     "execution_count": 51,
     "metadata": {},
     "output_type": "execute_result"
    }
   ],
   "source": [
    "X1.values"
   ]
  },
  {
   "cell_type": "code",
   "execution_count": 52,
   "id": "9862017d-3066-4a48-8105-8794e35911fb",
   "metadata": {},
   "outputs": [
    {
     "data": {
      "text/plain": [
       "Index(['a', 'b', 'c', 'd'], dtype='object')"
      ]
     },
     "execution_count": 52,
     "metadata": {},
     "output_type": "execute_result"
    }
   ],
   "source": [
    "X1.index"
   ]
  },
  {
   "cell_type": "code",
   "execution_count": 53,
   "id": "fc7d885b-4008-45e1-b202-b66c1de5b8f3",
   "metadata": {},
   "outputs": [
    {
     "name": "stdout",
     "output_type": "stream",
     "text": [
      "a    0.1\n",
      "b    0.2\n",
      "c    0.3\n",
      "dtype: float64\n",
      "a    0.1\n",
      "b    0.2\n",
      "c    0.3\n",
      "dtype: float64\n"
     ]
    }
   ],
   "source": [
    "print(X1['a':'c'])\n",
    "print(X1[0:3])"
   ]
  },
  {
   "cell_type": "code",
   "execution_count": 58,
   "id": "5086251f-7b89-4e87-bd27-bd29c4aff88d",
   "metadata": {},
   "outputs": [
    {
     "name": "stdout",
     "output_type": "stream",
     "text": [
      "서울    9700000\n",
      "부산    4500000\n",
      "인천    4000000\n",
      "광주    2000000\n",
      "대구    2500000\n",
      "dtype: int64\n"
     ]
    }
   ],
   "source": [
    "population1={'서울' : 9_700_000,\n",
    "             '부산' : 4_500_000,\n",
    "             '인천' : 4_000_000,\n",
    "             '광주' : 2_000_000,\n",
    "             '대구' : 2_500_000}\n",
    "popu=pd.Series(population1)\n",
    "print(popu)"
   ]
  },
  {
   "cell_type": "code",
   "execution_count": 60,
   "id": "0f457586-f60c-4741-aca2-37c794ed33d6",
   "metadata": {},
   "outputs": [
    {
     "name": "stdout",
     "output_type": "stream",
     "text": [
      "   a  b  c\n",
      "1  1  2  3\n",
      "2  4  5  6\n",
      "3  7  8  9\n"
     ]
    }
   ],
   "source": [
    "X2 = pd.DataFrame([[1,2,3],[4,5,6],[7,8,9]], columns=['a','b','c'], index=[1,2,3])\n",
    "print(X2)"
   ]
  },
  {
   "cell_type": "code",
   "execution_count": 61,
   "id": "e39cb6d1-21c9-4b8d-b4c5-fb9afe0e2d0c",
   "metadata": {},
   "outputs": [
    {
     "name": "stdout",
     "output_type": "stream",
     "text": [
      "   a  b  c\n",
      "1  1  2  3\n"
     ]
    }
   ],
   "source": [
    "print(X2.head(1))"
   ]
  },
  {
   "cell_type": "code",
   "execution_count": 63,
   "id": "41596a1e-e4e8-4b7a-a7f9-613234d24977",
   "metadata": {},
   "outputs": [
    {
     "data": {
      "text/html": [
       "<div>\n",
       "<style scoped>\n",
       "    .dataframe tbody tr th:only-of-type {\n",
       "        vertical-align: middle;\n",
       "    }\n",
       "\n",
       "    .dataframe tbody tr th {\n",
       "        vertical-align: top;\n",
       "    }\n",
       "\n",
       "    .dataframe thead th {\n",
       "        text-align: right;\n",
       "    }\n",
       "</style>\n",
       "<table border=\"1\" class=\"dataframe\">\n",
       "  <thead>\n",
       "    <tr style=\"text-align: right;\">\n",
       "      <th></th>\n",
       "      <th>pop</th>\n",
       "    </tr>\n",
       "  </thead>\n",
       "  <tbody>\n",
       "    <tr>\n",
       "      <th>서울</th>\n",
       "      <td>9700000</td>\n",
       "    </tr>\n",
       "    <tr>\n",
       "      <th>부산</th>\n",
       "      <td>4500000</td>\n",
       "    </tr>\n",
       "    <tr>\n",
       "      <th>인천</th>\n",
       "      <td>4000000</td>\n",
       "    </tr>\n",
       "    <tr>\n",
       "      <th>광주</th>\n",
       "      <td>2000000</td>\n",
       "    </tr>\n",
       "    <tr>\n",
       "      <th>대구</th>\n",
       "      <td>2500000</td>\n",
       "    </tr>\n",
       "  </tbody>\n",
       "</table>\n",
       "</div>"
      ],
      "text/plain": [
       "        pop\n",
       "서울  9700000\n",
       "부산  4500000\n",
       "인천  4000000\n",
       "광주  2000000\n",
       "대구  2500000"
      ]
     },
     "execution_count": 63,
     "metadata": {},
     "output_type": "execute_result"
    }
   ],
   "source": [
    "pd.DataFrame(popu, columns=['pop'])"
   ]
  },
  {
   "cell_type": "code",
   "execution_count": 65,
   "id": "57d07c94-0897-4d15-adec-9f7bed078e64",
   "metadata": {},
   "outputs": [
    {
     "name": "stdout",
     "output_type": "stream",
     "text": [
      "        pop  자립도(%)\n",
      "서울  9700000      95\n",
      "부산  4500000      80\n",
      "인천  4000000      85\n",
      "광주  2000000      75\n",
      "대구  2500000      80\n"
     ]
    }
   ],
   "source": [
    "ind1 = {'서울' : 95,\n",
    "       '부산' : 80,\n",
    "       '인천' : 85,\n",
    "       '광주' : 75,\n",
    "       '대구' : 80}\n",
    "ind = pd.Series(ind1)\n",
    "y = pd.DataFrame({'pop':popu, '자립도(%)':ind})\n",
    "print(y)"
   ]
  },
  {
   "cell_type": "code",
   "execution_count": 66,
   "id": "50d53145-e747-4201-8b28-293bddb07f34",
   "metadata": {},
   "outputs": [
    {
     "name": "stdout",
     "output_type": "stream",
     "text": [
      "서울    95\n",
      "부산    80\n",
      "인천    85\n",
      "광주    75\n",
      "대구    80\n",
      "Name: 자립도(%), dtype: int64\n"
     ]
    }
   ],
   "source": [
    "print(y['자립도(%)'])"
   ]
  },
  {
   "cell_type": "code",
   "execution_count": 69,
   "id": "9563c3bc-6b6a-471b-986c-be930df09a50",
   "metadata": {},
   "outputs": [
    {
     "name": "stdout",
     "output_type": "stream",
     "text": [
      "        pop  자립도(%)\n",
      "부산  4500000      80\n",
      "인천  4000000      85\n",
      "광주  2000000      75\n"
     ]
    }
   ],
   "source": [
    "print(y['부산':'광주'])"
   ]
  },
  {
   "cell_type": "code",
   "execution_count": 72,
   "id": "4ec71f2d-18a6-4eef-8ba0-4538bb82bfe1",
   "metadata": {},
   "outputs": [
    {
     "name": "stdout",
     "output_type": "stream",
     "text": [
      "   a  b   c   d\n",
      "0  0  1   2   3\n",
      "1  4  5   6   7\n",
      "2  8  9  10  11\n"
     ]
    }
   ],
   "source": [
    "W = pd.DataFrame(np.arange(12).reshape(3,4), columns=['a','b','c','d'])\n",
    "print(W)"
   ]
  },
  {
   "cell_type": "code",
   "execution_count": 78,
   "id": "7979ac50-2f60-4fe4-adb0-d93ba382b3be",
   "metadata": {},
   "outputs": [
    {
     "name": "stdout",
     "output_type": "stream",
     "text": [
      "   a  b  c  d\n",
      "0  0  1  2  3\n",
      "1  4  5  6  7\n",
      "\n",
      "   a  b  c  d\n",
      "0  0  1  2  3\n",
      "\n",
      "0    2\n",
      "1    6\n",
      "Name: c, dtype: int32\n"
     ]
    }
   ],
   "source": [
    "print(W.loc[0:1,:])\n",
    "print()\n",
    "print(W.iloc[0:1,:])\n",
    "print()\n",
    "print(W.iloc[0:2]['c'])"
   ]
  },
  {
   "cell_type": "code",
   "execution_count": 83,
   "id": "81cde51e-50f2-4195-9767-54db509eb671",
   "metadata": {},
   "outputs": [
    {
     "name": "stdout",
     "output_type": "stream",
     "text": [
      "   a  b\n",
      "0  1  2\n",
      "1  3  4\n",
      "    a   b   c\n",
      "0  11  22  33\n",
      "1  44  55  66\n",
      "2  77  88  99\n",
      "      a     b   c\n",
      "0  12.0  24.0 NaN\n",
      "1  47.0  59.0 NaN\n",
      "2   NaN   NaN NaN\n",
      "          a         b   c\n",
      "0  0.090909  0.090909 NaN\n",
      "1  0.068182  0.072727 NaN\n",
      "2       NaN       NaN NaN\n"
     ]
    }
   ],
   "source": [
    "D1 = pd.DataFrame([[1,2],[3,4]],columns=['a','b'])\n",
    "print(D1)\n",
    "D2 = pd.DataFrame([[11,22,33],[44,55,66],[77,88,99]], columns=['a','b','c'])\n",
    "print(D2)\n",
    "print(D1+D2) # D1에 행 index 2가 없고, 열 index c가 없으므로 행렬의 덧셈연산은 NaN으로 표기\n",
    "# 이러한 연산은 두 개의 자료 크기가 다르더라도 에러메세지 없이 실행된다는 점에서 매우 유용한 기능이다.\n",
    "print(D1/D2)"
   ]
  },
  {
   "cell_type": "code",
   "execution_count": 87,
   "id": "607e8138-e712-4508-a375-bdfdad2ffd92",
   "metadata": {},
   "outputs": [
    {
     "name": "stdout",
     "output_type": "stream",
     "text": [
      "[[22 28]\n",
      " [49 64]]\n",
      "[[22 49]\n",
      " [28 64]]\n"
     ]
    }
   ],
   "source": [
    "### element-wise한 연산 말고 실제 선형대수적 행렬 연산을 하기 위해선 np.matmul()을 사용한다.\n",
    "a = np.array([[1,2,3],[4,5,6]])\n",
    "b = np.array([[1,2],[3,4],[5,6]])\n",
    "c = np.matmul(a,b)\n",
    "print(c)\n",
    "d = c.T #전치행렬\n",
    "print(d)"
   ]
  },
  {
   "cell_type": "markdown",
   "id": "15c87a74-fd32-4f17-b131-77e2310e0584",
   "metadata": {},
   "source": [
    "## 1.2.1 결측 자료의 처리"
   ]
  },
  {
   "cell_type": "code",
   "execution_count": 92,
   "id": "c5ea3cfd-6b95-49fc-b89a-a86b4599019f",
   "metadata": {},
   "outputs": [
    {
     "name": "stdout",
     "output_type": "stream",
     "text": [
      "0    False\n",
      "1     True\n",
      "2    False\n",
      "3     True\n",
      "dtype: bool\n",
      "\n",
      "2\n"
     ]
    }
   ],
   "source": [
    "N = pd.Series([1, np.nan, 'missing', None])\n",
    "print(N.isnull())\n",
    "print()\n",
    "print(N.isnull().sum())"
   ]
  },
  {
   "cell_type": "code",
   "execution_count": 95,
   "id": "79cbe03e-d099-4192-be42-d4fdb5613e6f",
   "metadata": {},
   "outputs": [
    {
     "name": "stdout",
     "output_type": "stream",
     "text": [
      "0          1\n",
      "2    missing\n",
      "dtype: object\n",
      "\n",
      "2\n",
      "\n"
     ]
    },
    {
     "data": {
      "text/plain": [
       "0          1\n",
       "1          0\n",
       "2    missing\n",
       "3          0\n",
       "dtype: object"
      ]
     },
     "execution_count": 95,
     "metadata": {},
     "output_type": "execute_result"
    }
   ],
   "source": [
    "print(N[N.notnull()])\n",
    "print()\n",
    "print(N.notnull().sum())\n",
    "print()\n",
    "N.fillna(0)"
   ]
  },
  {
   "cell_type": "code",
   "execution_count": 98,
   "id": "10536f93-d3ba-460c-acc7-0a84116c7e9e",
   "metadata": {},
   "outputs": [
    {
     "name": "stdout",
     "output_type": "stream",
     "text": [
      "     a    b  c   d\n",
      "1  1.0  NaN  2 NaN\n",
      "2  4.0  5.0  6 NaN\n",
      "3  NaN  7.0  8 NaN\n"
     ]
    }
   ],
   "source": [
    "M = pd.DataFrame([[1,np.nan,2,np.nan],[4,5,6,np.nan],[np.nan,7,8,np.nan]], index=list('123'), columns=list('abcd'))\n",
    "print(M)"
   ]
  },
  {
   "cell_type": "code",
   "execution_count": 99,
   "id": "9bb8dca7-270b-428b-b22c-ce30f3c83470",
   "metadata": {},
   "outputs": [
    {
     "data": {
      "text/html": [
       "<div>\n",
       "<style scoped>\n",
       "    .dataframe tbody tr th:only-of-type {\n",
       "        vertical-align: middle;\n",
       "    }\n",
       "\n",
       "    .dataframe tbody tr th {\n",
       "        vertical-align: top;\n",
       "    }\n",
       "\n",
       "    .dataframe thead th {\n",
       "        text-align: right;\n",
       "    }\n",
       "</style>\n",
       "<table border=\"1\" class=\"dataframe\">\n",
       "  <thead>\n",
       "    <tr style=\"text-align: right;\">\n",
       "      <th></th>\n",
       "      <th>a</th>\n",
       "      <th>b</th>\n",
       "      <th>c</th>\n",
       "    </tr>\n",
       "  </thead>\n",
       "  <tbody>\n",
       "    <tr>\n",
       "      <th>1</th>\n",
       "      <td>1.0</td>\n",
       "      <td>NaN</td>\n",
       "      <td>2</td>\n",
       "    </tr>\n",
       "    <tr>\n",
       "      <th>2</th>\n",
       "      <td>4.0</td>\n",
       "      <td>5.0</td>\n",
       "      <td>6</td>\n",
       "    </tr>\n",
       "    <tr>\n",
       "      <th>3</th>\n",
       "      <td>NaN</td>\n",
       "      <td>7.0</td>\n",
       "      <td>8</td>\n",
       "    </tr>\n",
       "  </tbody>\n",
       "</table>\n",
       "</div>"
      ],
      "text/plain": [
       "     a    b  c\n",
       "1  1.0  NaN  2\n",
       "2  4.0  5.0  6\n",
       "3  NaN  7.0  8"
      ]
     },
     "execution_count": 99,
     "metadata": {},
     "output_type": "execute_result"
    }
   ],
   "source": [
    "M.dropna(axis = 'columns', how = 'all')"
   ]
  },
  {
   "cell_type": "code",
   "execution_count": 100,
   "id": "eb5e7d57-72d0-4051-880e-b321037d31bf",
   "metadata": {},
   "outputs": [
    {
     "data": {
      "text/html": [
       "<div>\n",
       "<style scoped>\n",
       "    .dataframe tbody tr th:only-of-type {\n",
       "        vertical-align: middle;\n",
       "    }\n",
       "\n",
       "    .dataframe tbody tr th {\n",
       "        vertical-align: top;\n",
       "    }\n",
       "\n",
       "    .dataframe thead th {\n",
       "        text-align: right;\n",
       "    }\n",
       "</style>\n",
       "<table border=\"1\" class=\"dataframe\">\n",
       "  <thead>\n",
       "    <tr style=\"text-align: right;\">\n",
       "      <th></th>\n",
       "      <th>a</th>\n",
       "      <th>b</th>\n",
       "      <th>c</th>\n",
       "      <th>d</th>\n",
       "    </tr>\n",
       "  </thead>\n",
       "  <tbody>\n",
       "    <tr>\n",
       "      <th>2</th>\n",
       "      <td>4.0</td>\n",
       "      <td>5.0</td>\n",
       "      <td>6</td>\n",
       "      <td>NaN</td>\n",
       "    </tr>\n",
       "  </tbody>\n",
       "</table>\n",
       "</div>"
      ],
      "text/plain": [
       "     a    b  c   d\n",
       "2  4.0  5.0  6 NaN"
      ]
     },
     "execution_count": 100,
     "metadata": {},
     "output_type": "execute_result"
    }
   ],
   "source": [
    "M.dropna(axis = 'rows', thresh = 3)"
   ]
  },
  {
   "cell_type": "code",
   "execution_count": 101,
   "id": "fff339ce-a60c-4d4d-a22c-54fc525f4f2b",
   "metadata": {},
   "outputs": [
    {
     "data": {
      "text/html": [
       "<div>\n",
       "<style scoped>\n",
       "    .dataframe tbody tr th:only-of-type {\n",
       "        vertical-align: middle;\n",
       "    }\n",
       "\n",
       "    .dataframe tbody tr th {\n",
       "        vertical-align: top;\n",
       "    }\n",
       "\n",
       "    .dataframe thead th {\n",
       "        text-align: right;\n",
       "    }\n",
       "</style>\n",
       "<table border=\"1\" class=\"dataframe\">\n",
       "  <thead>\n",
       "    <tr style=\"text-align: right;\">\n",
       "      <th></th>\n",
       "      <th>a</th>\n",
       "      <th>b</th>\n",
       "      <th>c</th>\n",
       "      <th>d</th>\n",
       "    </tr>\n",
       "  </thead>\n",
       "  <tbody>\n",
       "    <tr>\n",
       "      <th>1</th>\n",
       "      <td>1.0</td>\n",
       "      <td>2.0</td>\n",
       "      <td>2.0</td>\n",
       "      <td>NaN</td>\n",
       "    </tr>\n",
       "    <tr>\n",
       "      <th>2</th>\n",
       "      <td>4.0</td>\n",
       "      <td>5.0</td>\n",
       "      <td>6.0</td>\n",
       "      <td>NaN</td>\n",
       "    </tr>\n",
       "    <tr>\n",
       "      <th>3</th>\n",
       "      <td>7.0</td>\n",
       "      <td>7.0</td>\n",
       "      <td>8.0</td>\n",
       "      <td>NaN</td>\n",
       "    </tr>\n",
       "  </tbody>\n",
       "</table>\n",
       "</div>"
      ],
      "text/plain": [
       "     a    b    c   d\n",
       "1  1.0  2.0  2.0 NaN\n",
       "2  4.0  5.0  6.0 NaN\n",
       "3  7.0  7.0  8.0 NaN"
      ]
     },
     "execution_count": 101,
     "metadata": {},
     "output_type": "execute_result"
    }
   ],
   "source": [
    "M.fillna(method='bfill', axis = 1)"
   ]
  },
  {
   "cell_type": "code",
   "execution_count": 102,
   "id": "591197cc-4ff8-4c80-b0b2-7ba084fce8b7",
   "metadata": {},
   "outputs": [
    {
     "data": {
      "text/html": [
       "<div>\n",
       "<style scoped>\n",
       "    .dataframe tbody tr th:only-of-type {\n",
       "        vertical-align: middle;\n",
       "    }\n",
       "\n",
       "    .dataframe tbody tr th {\n",
       "        vertical-align: top;\n",
       "    }\n",
       "\n",
       "    .dataframe thead th {\n",
       "        text-align: right;\n",
       "    }\n",
       "</style>\n",
       "<table border=\"1\" class=\"dataframe\">\n",
       "  <thead>\n",
       "    <tr style=\"text-align: right;\">\n",
       "      <th></th>\n",
       "      <th>a</th>\n",
       "      <th>b</th>\n",
       "      <th>c</th>\n",
       "      <th>d</th>\n",
       "    </tr>\n",
       "  </thead>\n",
       "  <tbody>\n",
       "    <tr>\n",
       "      <th>1</th>\n",
       "      <td>1.0</td>\n",
       "      <td>1.0</td>\n",
       "      <td>2.0</td>\n",
       "      <td>2.0</td>\n",
       "    </tr>\n",
       "    <tr>\n",
       "      <th>2</th>\n",
       "      <td>4.0</td>\n",
       "      <td>5.0</td>\n",
       "      <td>6.0</td>\n",
       "      <td>6.0</td>\n",
       "    </tr>\n",
       "    <tr>\n",
       "      <th>3</th>\n",
       "      <td>NaN</td>\n",
       "      <td>7.0</td>\n",
       "      <td>8.0</td>\n",
       "      <td>8.0</td>\n",
       "    </tr>\n",
       "  </tbody>\n",
       "</table>\n",
       "</div>"
      ],
      "text/plain": [
       "     a    b    c    d\n",
       "1  1.0  1.0  2.0  2.0\n",
       "2  4.0  5.0  6.0  6.0\n",
       "3  NaN  7.0  8.0  8.0"
      ]
     },
     "execution_count": 102,
     "metadata": {},
     "output_type": "execute_result"
    }
   ],
   "source": [
    "M.fillna(method = 'ffill', axis = 1)"
   ]
  },
  {
   "cell_type": "markdown",
   "id": "468fad8e-701c-4fc6-a3ec-3c80b2042dea",
   "metadata": {},
   "source": [
    "## 1.2.2 논리적 인덱스"
   ]
  },
  {
   "cell_type": "code",
   "execution_count": 105,
   "id": "02121786-749f-4955-b7f8-ad5dc99b26b0",
   "metadata": {},
   "outputs": [
    {
     "name": "stdout",
     "output_type": "stream",
     "text": [
      "     a    b  c   d\n",
      "1  1.0  NaN  2 NaN\n",
      "2  3.0  4.0  5 NaN\n",
      "3  NaN  6.0  7 NaN\n"
     ]
    }
   ],
   "source": [
    "x = pd.DataFrame([[1,np.nan,2,np.nan],[3,4,5,np.nan],[np.nan,6,7,np.nan]], index=list('123'), columns=list('abcd'))\n",
    "print(x)"
   ]
  },
  {
   "cell_type": "code",
   "execution_count": 109,
   "id": "df9bb403-22ff-475f-a45e-8fd7a4b425f7",
   "metadata": {},
   "outputs": [
    {
     "name": "stdout",
     "output_type": "stream",
     "text": [
      "     a    b  c     d\n",
      "1  1.0  NaN  2   NaN\n",
      "2  3.0  4.0  5  99.0\n",
      "3  NaN  6.0  7   NaN\n",
      "     a   b  c   d\n",
      "1  1.0 NaN  2 NaN\n"
     ]
    }
   ],
   "source": [
    "x.loc['2', 'd'] = 99\n",
    "print(x)\n",
    "print(x[pd.isnull(x['b'])])"
   ]
  },
  {
   "cell_type": "code",
   "execution_count": 110,
   "id": "cc6ad96b-dc61-4e0c-b864-152db7ffa1fb",
   "metadata": {},
   "outputs": [
    {
     "data": {
      "text/plain": [
       "1    NaN\n",
       "3    6.0\n",
       "Name: b, dtype: float64"
      ]
     },
     "execution_count": 110,
     "metadata": {},
     "output_type": "execute_result"
    }
   ],
   "source": [
    "### x의 각 행 중에서 하나라도 결측치가 있는 행을 찾아내서, 이 중 'b'열을 추출하라는 명령어\n",
    "x[pd.isnull(x).any(axis=1)]['b']"
   ]
  },
  {
   "cell_type": "code",
   "execution_count": 111,
   "id": "9d575cee-f28b-4898-985f-7b9a110b00b9",
   "metadata": {},
   "outputs": [
    {
     "data": {
      "text/plain": [
       "1    NaN\n",
       "3    6.0\n",
       "Name: b, dtype: float64"
      ]
     },
     "execution_count": 111,
     "metadata": {},
     "output_type": "execute_result"
    }
   ],
   "source": [
    "### 동일한 결과\n",
    "x.loc[pd.isnull(x).any(axis=1), 'b']"
   ]
  },
  {
   "cell_type": "code",
   "execution_count": 112,
   "id": "551d0d05-46f9-461a-b0fc-e2c2f0b4f2ff",
   "metadata": {},
   "outputs": [
    {
     "ename": "InvalidIndexError",
     "evalue": "(1     True\n2    False\n3     True\ndtype: bool, 'b')",
     "output_type": "error",
     "traceback": [
      "\u001b[1;31m---------------------------------------------------------------------------\u001b[0m",
      "\u001b[1;31mTypeError\u001b[0m                                 Traceback (most recent call last)",
      "\u001b[1;32m~\\.conda\\envs\\ttn\\lib\\site-packages\\pandas\\core\\indexes\\base.py\u001b[0m in \u001b[0;36mget_loc\u001b[1;34m(self, key, method, tolerance)\u001b[0m\n\u001b[0;32m   3620\u001b[0m             \u001b[1;32mtry\u001b[0m\u001b[1;33m:\u001b[0m\u001b[1;33m\u001b[0m\u001b[1;33m\u001b[0m\u001b[0m\n\u001b[1;32m-> 3621\u001b[1;33m                 \u001b[1;32mreturn\u001b[0m \u001b[0mself\u001b[0m\u001b[1;33m.\u001b[0m\u001b[0m_engine\u001b[0m\u001b[1;33m.\u001b[0m\u001b[0mget_loc\u001b[0m\u001b[1;33m(\u001b[0m\u001b[0mcasted_key\u001b[0m\u001b[1;33m)\u001b[0m\u001b[1;33m\u001b[0m\u001b[1;33m\u001b[0m\u001b[0m\n\u001b[0m\u001b[0;32m   3622\u001b[0m             \u001b[1;32mexcept\u001b[0m \u001b[0mKeyError\u001b[0m \u001b[1;32mas\u001b[0m \u001b[0merr\u001b[0m\u001b[1;33m:\u001b[0m\u001b[1;33m\u001b[0m\u001b[1;33m\u001b[0m\u001b[0m\n",
      "\u001b[1;32m~\\.conda\\envs\\ttn\\lib\\site-packages\\pandas\\_libs\\index.pyx\u001b[0m in \u001b[0;36mpandas._libs.index.IndexEngine.get_loc\u001b[1;34m()\u001b[0m\n",
      "\u001b[1;32m~\\.conda\\envs\\ttn\\lib\\site-packages\\pandas\\_libs\\index.pyx\u001b[0m in \u001b[0;36mpandas._libs.index.IndexEngine.get_loc\u001b[1;34m()\u001b[0m\n",
      "\u001b[1;31mTypeError\u001b[0m: '(1     True\n2    False\n3     True\ndtype: bool, 'b')' is an invalid key",
      "\nDuring handling of the above exception, another exception occurred:\n",
      "\u001b[1;31mInvalidIndexError\u001b[0m                         Traceback (most recent call last)",
      "\u001b[1;32m~\\AppData\\Local\\Temp/ipykernel_2608/2212545167.py\u001b[0m in \u001b[0;36m<module>\u001b[1;34m\u001b[0m\n\u001b[1;32m----> 1\u001b[1;33m \u001b[0mx\u001b[0m\u001b[1;33m[\u001b[0m\u001b[0mpd\u001b[0m\u001b[1;33m.\u001b[0m\u001b[0misnull\u001b[0m\u001b[1;33m(\u001b[0m\u001b[0mx\u001b[0m\u001b[1;33m)\u001b[0m\u001b[1;33m.\u001b[0m\u001b[0many\u001b[0m\u001b[1;33m(\u001b[0m\u001b[0maxis\u001b[0m\u001b[1;33m=\u001b[0m\u001b[1;36m1\u001b[0m\u001b[1;33m)\u001b[0m\u001b[1;33m,\u001b[0m \u001b[1;34m'b'\u001b[0m\u001b[1;33m]\u001b[0m\u001b[1;33m\u001b[0m\u001b[1;33m\u001b[0m\u001b[0m\n\u001b[0m",
      "\u001b[1;32m~\\.conda\\envs\\ttn\\lib\\site-packages\\pandas\\core\\frame.py\u001b[0m in \u001b[0;36m__getitem__\u001b[1;34m(self, key)\u001b[0m\n\u001b[0;32m   3503\u001b[0m             \u001b[1;32mif\u001b[0m \u001b[0mself\u001b[0m\u001b[1;33m.\u001b[0m\u001b[0mcolumns\u001b[0m\u001b[1;33m.\u001b[0m\u001b[0mnlevels\u001b[0m \u001b[1;33m>\u001b[0m \u001b[1;36m1\u001b[0m\u001b[1;33m:\u001b[0m\u001b[1;33m\u001b[0m\u001b[1;33m\u001b[0m\u001b[0m\n\u001b[0;32m   3504\u001b[0m                 \u001b[1;32mreturn\u001b[0m \u001b[0mself\u001b[0m\u001b[1;33m.\u001b[0m\u001b[0m_getitem_multilevel\u001b[0m\u001b[1;33m(\u001b[0m\u001b[0mkey\u001b[0m\u001b[1;33m)\u001b[0m\u001b[1;33m\u001b[0m\u001b[1;33m\u001b[0m\u001b[0m\n\u001b[1;32m-> 3505\u001b[1;33m             \u001b[0mindexer\u001b[0m \u001b[1;33m=\u001b[0m \u001b[0mself\u001b[0m\u001b[1;33m.\u001b[0m\u001b[0mcolumns\u001b[0m\u001b[1;33m.\u001b[0m\u001b[0mget_loc\u001b[0m\u001b[1;33m(\u001b[0m\u001b[0mkey\u001b[0m\u001b[1;33m)\u001b[0m\u001b[1;33m\u001b[0m\u001b[1;33m\u001b[0m\u001b[0m\n\u001b[0m\u001b[0;32m   3506\u001b[0m             \u001b[1;32mif\u001b[0m \u001b[0mis_integer\u001b[0m\u001b[1;33m(\u001b[0m\u001b[0mindexer\u001b[0m\u001b[1;33m)\u001b[0m\u001b[1;33m:\u001b[0m\u001b[1;33m\u001b[0m\u001b[1;33m\u001b[0m\u001b[0m\n\u001b[0;32m   3507\u001b[0m                 \u001b[0mindexer\u001b[0m \u001b[1;33m=\u001b[0m \u001b[1;33m[\u001b[0m\u001b[0mindexer\u001b[0m\u001b[1;33m]\u001b[0m\u001b[1;33m\u001b[0m\u001b[1;33m\u001b[0m\u001b[0m\n",
      "\u001b[1;32m~\\.conda\\envs\\ttn\\lib\\site-packages\\pandas\\core\\indexes\\base.py\u001b[0m in \u001b[0;36mget_loc\u001b[1;34m(self, key, method, tolerance)\u001b[0m\n\u001b[0;32m   3626\u001b[0m                 \u001b[1;31m#  InvalidIndexError. Otherwise we fall through and re-raise\u001b[0m\u001b[1;33m\u001b[0m\u001b[1;33m\u001b[0m\u001b[0m\n\u001b[0;32m   3627\u001b[0m                 \u001b[1;31m#  the TypeError.\u001b[0m\u001b[1;33m\u001b[0m\u001b[1;33m\u001b[0m\u001b[0m\n\u001b[1;32m-> 3628\u001b[1;33m                 \u001b[0mself\u001b[0m\u001b[1;33m.\u001b[0m\u001b[0m_check_indexing_error\u001b[0m\u001b[1;33m(\u001b[0m\u001b[0mkey\u001b[0m\u001b[1;33m)\u001b[0m\u001b[1;33m\u001b[0m\u001b[1;33m\u001b[0m\u001b[0m\n\u001b[0m\u001b[0;32m   3629\u001b[0m                 \u001b[1;32mraise\u001b[0m\u001b[1;33m\u001b[0m\u001b[1;33m\u001b[0m\u001b[0m\n\u001b[0;32m   3630\u001b[0m \u001b[1;33m\u001b[0m\u001b[0m\n",
      "\u001b[1;32m~\\.conda\\envs\\ttn\\lib\\site-packages\\pandas\\core\\indexes\\base.py\u001b[0m in \u001b[0;36m_check_indexing_error\u001b[1;34m(self, key)\u001b[0m\n\u001b[0;32m   5635\u001b[0m             \u001b[1;31m# if key is not a scalar, directly raise an error (the code below\u001b[0m\u001b[1;33m\u001b[0m\u001b[1;33m\u001b[0m\u001b[0m\n\u001b[0;32m   5636\u001b[0m             \u001b[1;31m# would convert to numpy arrays and raise later any way) - GH29926\u001b[0m\u001b[1;33m\u001b[0m\u001b[1;33m\u001b[0m\u001b[0m\n\u001b[1;32m-> 5637\u001b[1;33m             \u001b[1;32mraise\u001b[0m \u001b[0mInvalidIndexError\u001b[0m\u001b[1;33m(\u001b[0m\u001b[0mkey\u001b[0m\u001b[1;33m)\u001b[0m\u001b[1;33m\u001b[0m\u001b[1;33m\u001b[0m\u001b[0m\n\u001b[0m\u001b[0;32m   5638\u001b[0m \u001b[1;33m\u001b[0m\u001b[0m\n\u001b[0;32m   5639\u001b[0m     \u001b[1;33m@\u001b[0m\u001b[0mcache_readonly\u001b[0m\u001b[1;33m\u001b[0m\u001b[1;33m\u001b[0m\u001b[0m\n",
      "\u001b[1;31mInvalidIndexError\u001b[0m: (1     True\n2    False\n3     True\ndtype: bool, 'b')"
     ]
    }
   ],
   "source": [
    "x[pd.isnull(x).any(axis=1), 'b'] # error발생"
   ]
  },
  {
   "cell_type": "code",
   "execution_count": 113,
   "id": "786c5c1d-db4a-47d3-844d-cae83639a8f1",
   "metadata": {},
   "outputs": [
    {
     "name": "stdout",
     "output_type": "stream",
     "text": [
      "   a  b   c   d\n",
      "0  0  1   2   3\n",
      "1  4  5   6   7\n",
      "2  8  9  10  11\n"
     ]
    }
   ],
   "source": [
    "K = pd.DataFrame(np.arange(12).reshape(3,4), columns=list('abcd'))\n",
    "print(K)"
   ]
  },
  {
   "cell_type": "code",
   "execution_count": 114,
   "id": "8ac80a37-70e7-4d70-9e86-f4149991d44b",
   "metadata": {},
   "outputs": [
    {
     "data": {
      "text/plain": [
       "1     6\n",
       "2    10\n",
       "Name: c, dtype: int32"
      ]
     },
     "execution_count": 114,
     "metadata": {},
     "output_type": "execute_result"
    }
   ],
   "source": [
    "K.loc[K['b']>4]['c']"
   ]
  },
  {
   "cell_type": "code",
   "execution_count": 115,
   "id": "8e415fe0-6fda-453a-93dc-40a92f3095b8",
   "metadata": {},
   "outputs": [
    {
     "data": {
      "text/plain": [
       "1     6\n",
       "2    10\n",
       "Name: c, dtype: int32"
      ]
     },
     "execution_count": 115,
     "metadata": {},
     "output_type": "execute_result"
    }
   ],
   "source": [
    "### 동일한 결과\n",
    "K.loc[K['b']>4,'c']"
   ]
  },
  {
   "cell_type": "code",
   "execution_count": 116,
   "id": "63d0c99a-81bc-4b5b-8438-5ce80b4e3fdb",
   "metadata": {},
   "outputs": [
    {
     "data": {
      "text/html": [
       "<div>\n",
       "<style scoped>\n",
       "    .dataframe tbody tr th:only-of-type {\n",
       "        vertical-align: middle;\n",
       "    }\n",
       "\n",
       "    .dataframe tbody tr th {\n",
       "        vertical-align: top;\n",
       "    }\n",
       "\n",
       "    .dataframe thead th {\n",
       "        text-align: right;\n",
       "    }\n",
       "</style>\n",
       "<table border=\"1\" class=\"dataframe\">\n",
       "  <thead>\n",
       "    <tr style=\"text-align: right;\">\n",
       "      <th></th>\n",
       "      <th>b</th>\n",
       "      <th>d</th>\n",
       "    </tr>\n",
       "  </thead>\n",
       "  <tbody>\n",
       "    <tr>\n",
       "      <th>1</th>\n",
       "      <td>5</td>\n",
       "      <td>7</td>\n",
       "    </tr>\n",
       "    <tr>\n",
       "      <th>2</th>\n",
       "      <td>9</td>\n",
       "      <td>11</td>\n",
       "    </tr>\n",
       "  </tbody>\n",
       "</table>\n",
       "</div>"
      ],
      "text/plain": [
       "   b   d\n",
       "1  5   7\n",
       "2  9  11"
      ]
     },
     "execution_count": 116,
     "metadata": {},
     "output_type": "execute_result"
    }
   ],
   "source": [
    "K.loc[K['b']>4, ['b','d']]"
   ]
  },
  {
   "cell_type": "code",
   "execution_count": 117,
   "id": "f66122de-5dc8-4a83-aae9-aa918f049b73",
   "metadata": {},
   "outputs": [
    {
     "name": "stdout",
     "output_type": "stream",
     "text": [
      "   1  2  3\n",
      "a  0  1  2\n",
      "b  3  4  5\n"
     ]
    }
   ],
   "source": [
    "P=pd.DataFrame(np.arange(6).reshape(2,3), index=list('ab'), columns=list('123'))\n",
    "print(P)"
   ]
  },
  {
   "cell_type": "code",
   "execution_count": 118,
   "id": "ab6f60ac-5987-493d-a93e-0fe6f348a00a",
   "metadata": {},
   "outputs": [
    {
     "data": {
      "text/plain": [
       "a  1    0\n",
       "   2    1\n",
       "   3    2\n",
       "b  1    3\n",
       "   2    4\n",
       "   3    5\n",
       "dtype: int32"
      ]
     },
     "execution_count": 118,
     "metadata": {},
     "output_type": "execute_result"
    }
   ],
   "source": [
    "P.stack()"
   ]
  },
  {
   "cell_type": "code",
   "execution_count": 119,
   "id": "60d7c497-4c81-4ec6-8448-97507ee290e9",
   "metadata": {},
   "outputs": [
    {
     "data": {
      "text/html": [
       "<div>\n",
       "<style scoped>\n",
       "    .dataframe tbody tr th:only-of-type {\n",
       "        vertical-align: middle;\n",
       "    }\n",
       "\n",
       "    .dataframe tbody tr th {\n",
       "        vertical-align: top;\n",
       "    }\n",
       "\n",
       "    .dataframe thead th {\n",
       "        text-align: right;\n",
       "    }\n",
       "</style>\n",
       "<table border=\"1\" class=\"dataframe\">\n",
       "  <thead>\n",
       "    <tr style=\"text-align: right;\">\n",
       "      <th></th>\n",
       "      <th>1</th>\n",
       "      <th>2</th>\n",
       "      <th>3</th>\n",
       "    </tr>\n",
       "  </thead>\n",
       "  <tbody>\n",
       "    <tr>\n",
       "      <th>a</th>\n",
       "      <td>0</td>\n",
       "      <td>1</td>\n",
       "      <td>2</td>\n",
       "    </tr>\n",
       "    <tr>\n",
       "      <th>b</th>\n",
       "      <td>3</td>\n",
       "      <td>4</td>\n",
       "      <td>5</td>\n",
       "    </tr>\n",
       "  </tbody>\n",
       "</table>\n",
       "</div>"
      ],
      "text/plain": [
       "   1  2  3\n",
       "a  0  1  2\n",
       "b  3  4  5"
      ]
     },
     "execution_count": 119,
     "metadata": {},
     "output_type": "execute_result"
    }
   ],
   "source": [
    "P.stack().unstack()"
   ]
  },
  {
   "cell_type": "markdown",
   "id": "d00da07f-f074-4347-b4a2-a74c89ecd577",
   "metadata": {},
   "source": [
    "## 1.2.3 데이터 붙이기"
   ]
  },
  {
   "cell_type": "code",
   "execution_count": 121,
   "id": "2261b41d-1047-404b-8ba2-43559fd5cca2",
   "metadata": {},
   "outputs": [
    {
     "name": "stdout",
     "output_type": "stream",
     "text": [
      "   a  b  c\n",
      "0  1  2  3\n",
      "1  4  5  6\n",
      "    b   c   d\n",
      "0  11  22  33\n",
      "1  44  55  66\n"
     ]
    }
   ],
   "source": [
    "Q1 = pd.DataFrame([[1,2,3],[4,5,6,]], columns=list('abc'))\n",
    "Q2 = pd.DataFrame([[11,22,33],[44,55,66]], columns=list('bcd'))\n",
    "print(Q1)\n",
    "print(Q2)"
   ]
  },
  {
   "cell_type": "code",
   "execution_count": 122,
   "id": "c41b3b85-d82f-4d57-8a6c-b76e89f8912b",
   "metadata": {},
   "outputs": [
    {
     "data": {
      "text/html": [
       "<div>\n",
       "<style scoped>\n",
       "    .dataframe tbody tr th:only-of-type {\n",
       "        vertical-align: middle;\n",
       "    }\n",
       "\n",
       "    .dataframe tbody tr th {\n",
       "        vertical-align: top;\n",
       "    }\n",
       "\n",
       "    .dataframe thead th {\n",
       "        text-align: right;\n",
       "    }\n",
       "</style>\n",
       "<table border=\"1\" class=\"dataframe\">\n",
       "  <thead>\n",
       "    <tr style=\"text-align: right;\">\n",
       "      <th></th>\n",
       "      <th>a</th>\n",
       "      <th>b</th>\n",
       "      <th>c</th>\n",
       "      <th>d</th>\n",
       "    </tr>\n",
       "  </thead>\n",
       "  <tbody>\n",
       "    <tr>\n",
       "      <th>0</th>\n",
       "      <td>1.0</td>\n",
       "      <td>2</td>\n",
       "      <td>3</td>\n",
       "      <td>NaN</td>\n",
       "    </tr>\n",
       "    <tr>\n",
       "      <th>1</th>\n",
       "      <td>4.0</td>\n",
       "      <td>5</td>\n",
       "      <td>6</td>\n",
       "      <td>NaN</td>\n",
       "    </tr>\n",
       "    <tr>\n",
       "      <th>0</th>\n",
       "      <td>NaN</td>\n",
       "      <td>11</td>\n",
       "      <td>22</td>\n",
       "      <td>33.0</td>\n",
       "    </tr>\n",
       "    <tr>\n",
       "      <th>1</th>\n",
       "      <td>NaN</td>\n",
       "      <td>44</td>\n",
       "      <td>55</td>\n",
       "      <td>66.0</td>\n",
       "    </tr>\n",
       "  </tbody>\n",
       "</table>\n",
       "</div>"
      ],
      "text/plain": [
       "     a   b   c     d\n",
       "0  1.0   2   3   NaN\n",
       "1  4.0   5   6   NaN\n",
       "0  NaN  11  22  33.0\n",
       "1  NaN  44  55  66.0"
      ]
     },
     "execution_count": 122,
     "metadata": {},
     "output_type": "execute_result"
    }
   ],
   "source": [
    "### 데이터의 크기를 증가시키는(case를 증가시키는), 밑으로 붙이기\n",
    "pd.concat([Q1, Q2])"
   ]
  },
  {
   "cell_type": "code",
   "execution_count": 123,
   "id": "0285d5f3-7ad4-4765-be24-39c7adb9830e",
   "metadata": {},
   "outputs": [
    {
     "data": {
      "text/html": [
       "<div>\n",
       "<style scoped>\n",
       "    .dataframe tbody tr th:only-of-type {\n",
       "        vertical-align: middle;\n",
       "    }\n",
       "\n",
       "    .dataframe tbody tr th {\n",
       "        vertical-align: top;\n",
       "    }\n",
       "\n",
       "    .dataframe thead th {\n",
       "        text-align: right;\n",
       "    }\n",
       "</style>\n",
       "<table border=\"1\" class=\"dataframe\">\n",
       "  <thead>\n",
       "    <tr style=\"text-align: right;\">\n",
       "      <th></th>\n",
       "      <th>a</th>\n",
       "      <th>b</th>\n",
       "      <th>c</th>\n",
       "      <th>d</th>\n",
       "    </tr>\n",
       "  </thead>\n",
       "  <tbody>\n",
       "    <tr>\n",
       "      <th>0</th>\n",
       "      <td>1.0</td>\n",
       "      <td>2</td>\n",
       "      <td>3</td>\n",
       "      <td>NaN</td>\n",
       "    </tr>\n",
       "    <tr>\n",
       "      <th>1</th>\n",
       "      <td>4.0</td>\n",
       "      <td>5</td>\n",
       "      <td>6</td>\n",
       "      <td>NaN</td>\n",
       "    </tr>\n",
       "    <tr>\n",
       "      <th>2</th>\n",
       "      <td>NaN</td>\n",
       "      <td>11</td>\n",
       "      <td>22</td>\n",
       "      <td>33.0</td>\n",
       "    </tr>\n",
       "    <tr>\n",
       "      <th>3</th>\n",
       "      <td>NaN</td>\n",
       "      <td>44</td>\n",
       "      <td>55</td>\n",
       "      <td>66.0</td>\n",
       "    </tr>\n",
       "  </tbody>\n",
       "</table>\n",
       "</div>"
      ],
      "text/plain": [
       "     a   b   c     d\n",
       "0  1.0   2   3   NaN\n",
       "1  4.0   5   6   NaN\n",
       "2  NaN  11  22  33.0\n",
       "3  NaN  44  55  66.0"
      ]
     },
     "execution_count": 123,
     "metadata": {},
     "output_type": "execute_result"
    }
   ],
   "source": [
    "### 밑으로 붙이기, index가 반복되지 않고 순서 있는 인덱스를 원한다면 ignore_index=True를 추가하면 된다.\n",
    "pd.concat([Q1, Q2], ignore_index=True)"
   ]
  },
  {
   "cell_type": "code",
   "execution_count": 124,
   "id": "612f3ebc-4069-4b40-adff-a8d11a818f89",
   "metadata": {},
   "outputs": [
    {
     "data": {
      "text/html": [
       "<div>\n",
       "<style scoped>\n",
       "    .dataframe tbody tr th:only-of-type {\n",
       "        vertical-align: middle;\n",
       "    }\n",
       "\n",
       "    .dataframe tbody tr th {\n",
       "        vertical-align: top;\n",
       "    }\n",
       "\n",
       "    .dataframe thead th {\n",
       "        text-align: right;\n",
       "    }\n",
       "</style>\n",
       "<table border=\"1\" class=\"dataframe\">\n",
       "  <thead>\n",
       "    <tr style=\"text-align: right;\">\n",
       "      <th></th>\n",
       "      <th>b</th>\n",
       "      <th>c</th>\n",
       "    </tr>\n",
       "  </thead>\n",
       "  <tbody>\n",
       "    <tr>\n",
       "      <th>0</th>\n",
       "      <td>2</td>\n",
       "      <td>3</td>\n",
       "    </tr>\n",
       "    <tr>\n",
       "      <th>1</th>\n",
       "      <td>5</td>\n",
       "      <td>6</td>\n",
       "    </tr>\n",
       "    <tr>\n",
       "      <th>0</th>\n",
       "      <td>11</td>\n",
       "      <td>22</td>\n",
       "    </tr>\n",
       "    <tr>\n",
       "      <th>1</th>\n",
       "      <td>44</td>\n",
       "      <td>55</td>\n",
       "    </tr>\n",
       "  </tbody>\n",
       "</table>\n",
       "</div>"
      ],
      "text/plain": [
       "    b   c\n",
       "0   2   3\n",
       "1   5   6\n",
       "0  11  22\n",
       "1  44  55"
      ]
     },
     "execution_count": 124,
     "metadata": {},
     "output_type": "execute_result"
    }
   ],
   "source": [
    "### 밑으로 붙이기, 공통으로 가지고 있는 열로만 구성된 자료를 원한다면 join='inner'를 사용하면 된다.\n",
    "pd.concat([Q1, Q2], join='inner')"
   ]
  },
  {
   "cell_type": "code",
   "execution_count": 125,
   "id": "09020e69-f6bc-4162-9dc3-885d45cbb8c2",
   "metadata": {},
   "outputs": [
    {
     "data": {
      "text/html": [
       "<div>\n",
       "<style scoped>\n",
       "    .dataframe tbody tr th:only-of-type {\n",
       "        vertical-align: middle;\n",
       "    }\n",
       "\n",
       "    .dataframe tbody tr th {\n",
       "        vertical-align: top;\n",
       "    }\n",
       "\n",
       "    .dataframe thead th {\n",
       "        text-align: right;\n",
       "    }\n",
       "</style>\n",
       "<table border=\"1\" class=\"dataframe\">\n",
       "  <thead>\n",
       "    <tr style=\"text-align: right;\">\n",
       "      <th></th>\n",
       "      <th>b</th>\n",
       "      <th>c</th>\n",
       "    </tr>\n",
       "  </thead>\n",
       "  <tbody>\n",
       "    <tr>\n",
       "      <th>0</th>\n",
       "      <td>2</td>\n",
       "      <td>3</td>\n",
       "    </tr>\n",
       "    <tr>\n",
       "      <th>1</th>\n",
       "      <td>5</td>\n",
       "      <td>6</td>\n",
       "    </tr>\n",
       "    <tr>\n",
       "      <th>2</th>\n",
       "      <td>11</td>\n",
       "      <td>22</td>\n",
       "    </tr>\n",
       "    <tr>\n",
       "      <th>3</th>\n",
       "      <td>44</td>\n",
       "      <td>55</td>\n",
       "    </tr>\n",
       "  </tbody>\n",
       "</table>\n",
       "</div>"
      ],
      "text/plain": [
       "    b   c\n",
       "0   2   3\n",
       "1   5   6\n",
       "2  11  22\n",
       "3  44  55"
      ]
     },
     "execution_count": 125,
     "metadata": {},
     "output_type": "execute_result"
    }
   ],
   "source": [
    "pd.concat([Q1,Q2], ignore_index=True, join='inner')"
   ]
  },
  {
   "cell_type": "code",
   "execution_count": 126,
   "id": "20882012-4be9-4769-a0c5-84cbb41b52aa",
   "metadata": {},
   "outputs": [
    {
     "name": "stdout",
     "output_type": "stream",
     "text": [
      "   a  b  c\n",
      "0  1  2  3\n",
      "1  4  5  6\n",
      "    d   e\n",
      "0  11  22\n",
      "1  33  44\n"
     ]
    }
   ],
   "source": [
    "R1 = pd.DataFrame([[1,2,3],[4,5,6]], columns=list('abc'))\n",
    "R2 = pd.DataFrame([[11,22],[33,44]], columns=list('de'))\n",
    "print(R1)\n",
    "print(R2)"
   ]
  },
  {
   "cell_type": "code",
   "execution_count": 128,
   "id": "1a4e19b5-8aa8-4eb9-9cbc-50ec29b0bd6f",
   "metadata": {},
   "outputs": [
    {
     "name": "stdout",
     "output_type": "stream",
     "text": [
      "   a  b  c   d   e\n",
      "0  1  2  3  11  22\n",
      "1  4  5  6  33  44\n"
     ]
    }
   ],
   "source": [
    "### 데이터의 분석 변수를 추가할 때 많이 사용되는, 옆으로 붙이기\n",
    "R3 = pd.concat([R1,R2], axis=1)\n",
    "print(R3)"
   ]
  },
  {
   "cell_type": "code",
   "execution_count": 129,
   "id": "7153c461-66f9-4b85-8652-aa0e6e9894ba",
   "metadata": {},
   "outputs": [
    {
     "name": "stdout",
     "output_type": "stream",
     "text": [
      "   a   b  c\n",
      "0  1  aa  3\n",
      "1  4  bb  5\n",
      "    d   b\n",
      "0  11  bb\n",
      "1  22  aa\n"
     ]
    }
   ],
   "source": [
    "S1 = pd.DataFrame([[1,'aa',3],[4,'bb',5]], columns=list('abc'))\n",
    "S2 = pd.DataFrame([[11,'bb'],[22,'aa']], columns=list('db'))\n",
    "print(S1)\n",
    "print(S2)"
   ]
  },
  {
   "cell_type": "code",
   "execution_count": 131,
   "id": "eb1c0ef0-9821-4b0c-b4d2-1e67a99495ec",
   "metadata": {},
   "outputs": [
    {
     "name": "stdout",
     "output_type": "stream",
     "text": [
      "   a   b  c   d\n",
      "0  1  aa  3  22\n",
      "1  4  bb  5  11\n"
     ]
    }
   ],
   "source": [
    "### 공통의 정보를 가진 열 이름이 있을 경우 데이터 붙이기\n",
    "S3 = pd.merge(S1,S2, on='b')\n",
    "print(S3)"
   ]
  },
  {
   "cell_type": "code",
   "execution_count": null,
   "id": "1213a93a-a5ee-464c-a8ba-12d53d1e3535",
   "metadata": {},
   "outputs": [],
   "source": []
  }
 ],
 "metadata": {
  "kernelspec": {
   "display_name": "Python 3 (ipykernel)",
   "language": "python",
   "name": "python3"
  },
  "language_info": {
   "codemirror_mode": {
    "name": "ipython",
    "version": 3
   },
   "file_extension": ".py",
   "mimetype": "text/x-python",
   "name": "python",
   "nbconvert_exporter": "python",
   "pygments_lexer": "ipython3",
   "version": "3.9.7"
  }
 },
 "nbformat": 4,
 "nbformat_minor": 5
}
